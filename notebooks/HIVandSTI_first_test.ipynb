{
 "cells": [
  {
   "cell_type": "code",
   "execution_count": 1,
   "metadata": {},
   "outputs": [],
   "source": [
    "import sys\n",
    "import os\n",
    "import numpy as np\n",
    "import matplotlib.pyplot as plt\n",
    "#from matplotlib.ticker import FuncFormatter\n",
    "#from mpl_toolkits.axes_grid1.inset_locator import inset_axes\n",
    "import jax\n",
    "\n",
    "import icomo\n",
    "\n",
    "\n",
    "sys.path.append(\"../src/\")\n",
    "from tapm import model_HIVandSTI as model\n",
    "from tapm import sti_infection_results_LambdaP\n",
    "from tapm import utils"
   ]
  },
  {
   "cell_type": "code",
   "execution_count": 2,
   "metadata": {},
   "outputs": [
    {
     "name": "stderr",
     "output_type": "stream",
     "text": [
      "INFO:tapm.HIVandSTI.model_HIVandSTI:Model setup complete and ready for simulation\n"
     ]
    }
   ],
   "source": [
    "args, y0 = utils.read_params(filename=\"model_params_HIVandSTI.txt\")\n",
    "integrator = model.setup_model(args, y0)"
   ]
  },
  {
   "cell_type": "code",
   "execution_count": 3,
   "metadata": {},
   "outputs": [],
   "source": [
    "# Define the time dependent PrEP supply (between 0 and 1)\n",
    "ts = np.linspace(0, 3600 * 5, 3600)\n",
    "prep_supply = 1 - ((ts > 20 * 360) * (ts < 21 * 360))"
   ]
  },
  {
   "cell_type": "code",
   "execution_count": 4,
   "metadata": {},
   "outputs": [
    {
     "name": "stderr",
     "output_type": "stream",
     "text": [
      "INFO:jax._src.xla_bridge:Unable to initialize backend 'cuda': module 'jaxlib.xla_extension' has no attribute 'GpuAllocatorConfig'\n",
      "INFO:jax._src.xla_bridge:Unable to initialize backend 'rocm': module 'jaxlib.xla_extension' has no attribute 'GpuAllocatorConfig'\n",
      "INFO:jax._src.xla_bridge:Unable to initialize backend 'tpu': INVALID_ARGUMENT: TpuPlatform is not available.\n",
      "WARNING:jax._src.xla_bridge:No GPU/TPU found, falling back to CPU. (Set TF_CPP_MIN_LOG_LEVEL=0 and rerun for more info.)\n",
      "INFO:tapm.HIVandSTI.model_HIVandSTI:Using exponential function to calculate m\n",
      "INFO:tapm.HIVandSTI.model_HIVandSTI:Parameters: min_exp = 0.0, max_exp = 1.0, tau_exp = 0.2\n"
     ]
    }
   ],
   "source": [
    "output = integrator(y0=y0, constant_args=args, arg_t=prep_supply)"
   ]
  },
  {
   "cell_type": "code",
   "execution_count": 10,
   "metadata": {},
   "outputs": [
    {
     "data": {
      "text/plain": [
       "[<matplotlib.lines.Line2D at 0x7f64485b1700>]"
      ]
     },
     "execution_count": 10,
     "metadata": {},
     "output_type": "execute_result"
    },
    {
     "data": {
      "image/png": "[encoded data removed]",
      "text/plain": [
       "<Figure size 432x288 with 1 Axes>"
      ]
     },
     "metadata": {
      "needs_background": "light"
     },
     "output_type": "display_data"
    }
   ],
   "source": [
    "plt.plot(output[\"T_HIV\"])"
   ]
  },
  {
   "cell_type": "code",
   "execution_count": 6,
   "metadata": {},
   "outputs": [
    {
     "data": {
      "text/plain": [
       "{'E_HIV': Array([0.00000000e+000, 3.02589123e-005, 3.24884332e-005, ...,\n",
       "        1.37819868e-191, 1.22309914e-191, 1.08545418e-191],      dtype=float64, weak_type=True),\n",
       " 'H': Array([0.00000000e+00, 2.00003365e-04, 1.09879056e-03, ...,\n",
       "        7.26638277e+00, 7.26748634e+00, 7.26858956e+00],      dtype=float64, weak_type=True),\n",
       " 'I_HIV': Array([1.00000000e-002, 1.78767398e-003, 3.21123478e-004, ...,\n",
       "        9.85737252e-193, 8.74804485e-193, 7.76355855e-193],      dtype=float64, weak_type=True),\n",
       " 'Ia_STI': Array([9.00000000e-03, 9.21436657e-03, 9.42737422e-03, ...,\n",
       "        6.30203411e-05, 6.29778094e-05, 6.29353071e-05],      dtype=float64, weak_type=True),\n",
       " 'Is_STI': Array([1.00000000e-03, 7.47389848e-04, 5.71181549e-04, ...,\n",
       "        5.22066351e-07, 5.21714550e-07, 5.21362993e-07],      dtype=float64, weak_type=True),\n",
       " 'P_HIV': Array([0.2       , 0.15867839, 0.13502325, ..., 0.49805362, 0.49805413,\n",
       "        0.49805464], dtype=float64, weak_type=True),\n",
       " 'S_HIV': Array([0.79      , 0.831292  , 0.85494415, ..., 0.49863915, 0.49863966,\n",
       "        0.49864017], dtype=float64, weak_type=True),\n",
       " 'S_STI': Array([0.99      , 0.98980346, 0.98970626, ..., 0.99993558, 0.99993562,\n",
       "        0.99993567], dtype=float64, weak_type=True),\n",
       " 'T_HIV': Array([0.        , 0.00821168, 0.00967899, ..., 0.00330723, 0.00330621,\n",
       "        0.00330519], dtype=float64, weak_type=True),\n",
       " 'T_STI': Array([0.00000000e+00, 2.34786963e-04, 2.95183528e-04, ...,\n",
       "        8.76850145e-07, 8.76259259e-07, 8.75668781e-07],      dtype=float64, weak_type=True),\n",
       " 'h': Array([0.        , 0.00159898, 0.00375959, ..., 0.00331029, 0.00330927,\n",
       "        0.00330825], dtype=float64, weak_type=True)}"
      ]
     },
     "execution_count": 6,
     "metadata": {},
     "output_type": "execute_result"
    }
   ],
   "source": [
    "output"
   ]
  },
  {
   "cell_type": "code",
   "execution_count": 7,
   "metadata": {},
   "outputs": [
    {
     "data": {
      "text/plain": [
       "[<matplotlib.lines.Line2D at 0x7f64486f82b0>]"
      ]
     },
     "execution_count": 7,
     "metadata": {},
     "output_type": "execute_result"
    },
    {
     "data": {
      "image/png": "[encoded data removed]",
      "text/plain": [
       "<Figure size 432x288 with 1 Axes>"
      ]
     },
     "metadata": {
      "needs_background": "light"
     },
     "output_type": "display_data"
    }
   ],
   "source": [
    "plt.plot(prep_supply)"
   ]
  },
  {
   "cell_type": "code",
   "execution_count": null,
   "metadata": {},
   "outputs": [],
   "source": []
  },
  {
   "cell_type": "code",
   "execution_count": null,
   "metadata": {},
   "outputs": [],
   "source": []
  }
 ],
 "metadata": {
  "kernelspec": {
   "display_name": "tapm",
   "language": "python",
   "name": "tapm"
  },
  "language_info": {
   "codemirror_mode": {
    "name": "ipython",
    "version": 3
   },
   "file_extension": ".py",
   "mimetype": "text/x-python",
   "name": "python",
   "nbconvert_exporter": "python",
   "pygments_lexer": "ipython3",
   "version": "3.9.12"
  }
 },
 "nbformat": 4,
 "nbformat_minor": 2
}
