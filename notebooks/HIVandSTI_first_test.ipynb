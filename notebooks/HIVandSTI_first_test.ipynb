{
 "cells": [
  {
   "cell_type": "code",
   "execution_count": 1,
   "metadata": {},
   "outputs": [],
   "source": [
    "import sys\n",
    "import os\n",
    "import numpy as np\n",
    "import matplotlib.pyplot as plt\n",
    "#from matplotlib.ticker import FuncFormatter\n",
    "#from mpl_toolkits.axes_grid1.inset_locator import inset_axes\n",
    "import jax\n",
    "\n",
    "import icomo\n",
    "\n",
    "\n",
    "sys.path.append(\"../src/\")\n",
    "from tapm import model_HIVandSTI as model\n",
    "from tapm import sti_infection_results_LambdaP\n",
    "from tapm import utils"
   ]
  },
  {
   "cell_type": "code",
   "execution_count": 2,
   "metadata": {},
   "outputs": [
    {
     "name": "stderr",
     "output_type": "stream",
     "text": [
      "INFO:tapm.HIVandSTI.model_HIVandSTI:Model setup complete and ready for simulation\n"
     ]
    }
   ],
   "source": [
    "args, y0 = utils.read_params(filename=\"model_params_HIVandSTI.txt\")\n",
    "integrator = model.setup_model(args, y0)"
   ]
  },
  {
   "cell_type": "code",
   "execution_count": 3,
   "metadata": {},
   "outputs": [],
   "source": [
    "# Define the time dependent PrEP supply (between 0 and 1)\n",
    "ts = np.linspace(0, 3600 * 5, 3600)\n",
    "prep_supply = 1 - ((ts > 20 * 360) * (ts < 21 * 360))"
   ]
  },
  {
   "cell_type": "code",
   "execution_count": 4,
   "metadata": {},
   "outputs": [
    {
     "name": "stderr",
     "output_type": "stream",
     "text": [
      "INFO:jax._src.xla_bridge:Unable to initialize backend 'cuda': module 'jaxlib.xla_extension' has no attribute 'GpuAllocatorConfig'\n",
      "INFO:jax._src.xla_bridge:Unable to initialize backend 'rocm': module 'jaxlib.xla_extension' has no attribute 'GpuAllocatorConfig'\n",
      "INFO:jax._src.xla_bridge:Unable to initialize backend 'tpu': INVALID_ARGUMENT: TpuPlatform is not available.\n",
      "WARNING:jax._src.xla_bridge:No GPU/TPU found, falling back to CPU. (Set TF_CPP_MIN_LOG_LEVEL=0 and rerun for more info.)\n",
      "INFO:tapm.HIVandSTI.model_HIVandSTI:Using exponential function to calculate m\n",
      "INFO:tapm.HIVandSTI.model_HIVandSTI:Parameters: min_exp = 0.0, max_exp = 1.0, tau_exp = 0.2\n"
     ]
    }
   ],
   "source": [
    "output = integrator(y0=y0, constant_args=args, arg_t=prep_supply)"
   ]
  },
  {
   "cell_type": "code",
   "execution_count": 5,
   "metadata": {},
   "outputs": [
    {
     "data": {
      "text/plain": [
       "[<matplotlib.lines.Line2D at 0x7f5194514e50>]"
      ]
     },
     "execution_count": 5,
     "metadata": {},
     "output_type": "execute_result"
    },
    {
     "data": {
      "image/png": "[encoded data removed]",
      "text/plain": [
       "<Figure size 432x288 with 1 Axes>"
      ]
     },
     "metadata": {
      "needs_background": "light"
     },
     "output_type": "display_data"
    }
   ],
   "source": [
    "plt.plot(output[\"P_HIV\"])"
   ]
  },
  {
   "cell_type": "code",
   "execution_count": 6,
   "metadata": {},
   "outputs": [
    {
     "data": {
      "text/plain": [
       "{'E_HIV': Array([0.00000000e+00, 2.96347747e-05, 3.16177536e-05, ...,\n",
       "        1.14400378e-07, 1.14367844e-07, 1.14335319e-07],      dtype=float64, weak_type=True),\n",
       " 'H': Array([0.        , 0.00029893, 0.00070316, ..., 0.00559747, 0.00559804,\n",
       "        0.00559861], dtype=float64, weak_type=True),\n",
       " 'I_HIV': Array([1.00000000e-02, 1.79066092e-03, 3.25569907e-04, ...,\n",
       "        1.70893248e-06, 1.70841206e-06, 1.70789180e-06],      dtype=float64, weak_type=True),\n",
       " 'Ia_STI': Array([9.00000000e-003, 6.44814915e-003, 4.61970498e-003, ...,\n",
       "        2.15502490e-307, 2.15502490e-307, 2.15502490e-307],      dtype=float64, weak_type=True),\n",
       " 'Is_STI': Array([1.00000000e-003, 7.39478042e-004, 5.45871903e-004, ...,\n",
       "        2.11777156e-307, 2.11777156e-307, 2.11777156e-307],      dtype=float64, weak_type=True),\n",
       " 'P_HIV': Array([0.2       , 0.19993826, 0.19987655, ..., 0.06587926, 0.06585893,\n",
       "        0.0658386 ], dtype=float64, weak_type=True),\n",
       " 'S_HIV': Array([0.79      , 0.79003279, 0.79009185, ..., 0.93076791, 0.93078926,\n",
       "        0.93081061], dtype=float64, weak_type=True),\n",
       " 'S_STI': Array([0.99      , 0.99066411, 0.99223865, ..., 1.        , 1.        ,\n",
       "        1.        ], dtype=float64, weak_type=True),\n",
       " 'T_HIV': Array([0.        , 0.00820865, 0.00967441, ..., 0.00335101, 0.00334999,\n",
       "        0.00334897], dtype=float64, weak_type=True),\n",
       " 'T_STI': Array([0.00000000e+000, 2.14826358e-003, 2.59577146e-003, ...,\n",
       "        1.53274346e-307, 1.53274346e-307, 1.53274346e-307],      dtype=float64, weak_type=True),\n",
       " 'h': Array([0.00000000e+00, 1.23648334e-03, 1.10827830e-03, ...,\n",
       "        1.71049496e-06, 1.70997407e-06, 1.70945334e-06],      dtype=float64, weak_type=True)}"
      ]
     },
     "execution_count": 6,
     "metadata": {},
     "output_type": "execute_result"
    }
   ],
   "source": [
    "output"
   ]
  },
  {
   "cell_type": "code",
   "execution_count": 7,
   "metadata": {},
   "outputs": [
    {
     "data": {
      "text/plain": [
       "[<matplotlib.lines.Line2D at 0x7f519432e250>]"
      ]
     },
     "execution_count": 7,
     "metadata": {},
     "output_type": "execute_result"
    },
    {
     "data": {
      "image/png": "[encoded data removed]",
      "text/plain": [
       "<Figure size 432x288 with 1 Axes>"
      ]
     },
     "metadata": {
      "needs_background": "light"
     },
     "output_type": "display_data"
    }
   ],
   "source": [
    "plt.plot(prep_supply)"
   ]
  },
  {
   "cell_type": "code",
   "execution_count": null,
   "metadata": {},
   "outputs": [],
   "source": []
  },
  {
   "cell_type": "code",
   "execution_count": null,
   "metadata": {},
   "outputs": [],
   "source": []
  }
 ],
 "metadata": {
  "kernelspec": {
   "display_name": "tapm",
   "language": "python",
   "name": "tapm"
  },
  "language_info": {
   "codemirror_mode": {
    "name": "ipython",
    "version": 3
   },
   "file_extension": ".py",
   "mimetype": "text/x-python",
   "name": "python",
   "nbconvert_exporter": "python",
   "pygments_lexer": "ipython3",
   "version": "3.9.12"
  }
 },
 "nbformat": 4,
 "nbformat_minor": 2
}
