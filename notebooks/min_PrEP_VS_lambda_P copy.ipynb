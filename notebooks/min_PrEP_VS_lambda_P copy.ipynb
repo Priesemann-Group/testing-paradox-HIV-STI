{
 "cells": [
  {
   "cell_type": "code",
   "execution_count": 1,
   "metadata": {},
   "outputs": [
    {
     "name": "stderr",
     "output_type": "stream",
     "text": [
      "WARNING:pytensor.configdefaults:g++ not available, if using conda: `conda install m2w64-toolchain`\n",
      "WARNING:pytensor.configdefaults:g++ not detected!  PyTensor will be unable to compile C-implementations and will default to Python. Performance may be severely degraded. To remove this warning, set PyTensor flags cxx to an empty string.\n",
      "WARNING:pytensor.tensor.blas:Using NumPy C-API based implementation for BLAS functions.\n",
      "INFO:jax._src.xla_bridge:Unable to initialize backend 'cuda': \n",
      "INFO:jax._src.xla_bridge:Unable to initialize backend 'rocm': module 'jaxlib.xla_extension' has no attribute 'GpuAllocatorConfig'\n",
      "INFO:jax._src.xla_bridge:Unable to initialize backend 'tpu': UNIMPLEMENTED: LoadPjrtPlugin is not implemented on windows yet.\n"
     ]
    }
   ],
   "source": [
    "import numpy as np\n",
    "import matplotlib.pyplot as plt\n",
    "from matplotlib.ticker import FuncFormatter\n",
    "from matplotlib.colors import ListedColormap\n",
    "\n",
    "from tapm import miscellanea as msc\n",
    "#from miscellanea import *\n",
    "from tapm import utils"
   ]
  },
  {
   "cell_type": "markdown",
   "metadata": {},
   "source": [
    "# Parameters of the system and basic function definitions"
   ]
  },
  {
   "cell_type": "markdown",
   "metadata": {},
   "source": [
    "# Final Figure"
   ]
  },
  {
   "cell_type": "code",
   "execution_count": 2,
   "metadata": {},
   "outputs": [],
   "source": [
    "results = np.load(\"../results/min_PrEP.npy\", allow_pickle=True).item()"
   ]
  },
  {
   "cell_type": "code",
   "execution_count": 3,
   "metadata": {},
   "outputs": [
    {
     "data": {
      "application/vnd.jupyter.widget-view+json": {
       "model_id": "fe068af075b44023bae3d2b85392e178",
       "version_major": 2,
       "version_minor": 0
      },
      "text/plain": [
       "interactive(children=(IntSlider(value=0, description='row_index'), Output()), _dom_classes=('widget-interact',…"
      ]
     },
     "metadata": {},
     "output_type": "display_data"
    },
    {
     "data": {
      "text/plain": [
       "<function __main__.plot_3d(row_index=0)>"
      ]
     },
     "execution_count": 3,
     "metadata": {},
     "output_type": "execute_result"
    }
   ],
   "source": [
    "import numpy as np\n",
    "import matplotlib.pyplot as plt\n",
    "from mpl_toolkits.mplot3d import Axes3D\n",
    "from ipywidgets import interact\n",
    "\n",
    "# Assuming 'results' is defined\n",
    "Hs = np.linspace(0, 0.2, 101)\n",
    "Ps = np.linspace(0, 1, 201)\n",
    "\n",
    "# Define the specific values for lambda_P and beta_STI\n",
    "lambda_P_values = np.linspace(4/360, 0, 20001)[::100]  # Downsample for speed\n",
    "beta_STI_values = np.array([7]) * 0.0016\n",
    "\n",
    "def plot_3d(row_index=0):\n",
    "    global results, Ps  \n",
    "\n",
    "    x_values = []\n",
    "    y_values = []\n",
    "    z_values = []\n",
    "\n",
    "    # Collect data for the main 3D scatter plot\n",
    "    for (beta_STI, lambda_P), result in results.items():\n",
    "        if beta_STI == 7 * 0.0016:\n",
    "            x_values.extend(Ps)\n",
    "            if row_index < result.shape[0]:\n",
    "                y_values.extend(result[row_index, :])  \n",
    "            else:\n",
    "                y_values.extend(np.zeros_like(Ps))  \n",
    "            z_values.extend([lambda_P] * len(Ps))\n",
    "\n",
    "    x_values = np.array(x_values)\n",
    "    y_values = np.array(y_values)\n",
    "    z_values = np.array(z_values)\n",
    "    \n",
    "    # Create figure\n",
    "    fig = plt.figure(figsize=(10, 7))\n",
    "    ax = fig.add_subplot(111, projection='3d')\n",
    "    \n",
    "    # Main scatter plot\n",
    "    sc = ax.scatter(x_values, z_values, y_values, c=y_values, cmap='viridis')\n",
    "    \n",
    "    # Labels and settings\n",
    "    ax.set_xlabel('P')\n",
    "    ax.set_ylabel('$\\\\lambda_P$')\n",
    "    ax.set_zlabel('New cases')\n",
    "    ax.set_xticks([0, 0.5, 1])\n",
    "    ax.set_xticklabels([\"0\", \"0.5\", \"1\"])\n",
    "    ax.set_yticks([0/360, 1/360, 2/360, 3/360, 4/360])\n",
    "    ax.set_yticklabels([\"0/yr\", \"1/yr\", \"2/yr\", \"3/yr\", \"4/yr\"])\n",
    "    ax.set_title('3D Plot of Results')\n",
    "\n",
    "    # Function to calculate min PrEP uptake dynamically\n",
    "    def calculate_min_PrEP_uptake_values(beta_STI_values, lambda_P_values, results, Ps, row_index):\n",
    "        min_PrEP_uptake_values = {}\n",
    "        max_Y = []\n",
    "\n",
    "        for beta_STI in beta_STI_values:\n",
    "            min_uptakes_for_beta = []\n",
    "            for lambda_P in lambda_P_values:\n",
    "                if (beta_STI, lambda_P) in results:  # Check if key exists\n",
    "                    data = results[(beta_STI, lambda_P)]\n",
    "                    if row_index < data.shape[0]:  # Ensure valid index\n",
    "                        Y = data[row_index, :] \n",
    "                        peak_index = np.argmax(Y)\n",
    "                        min_PrEP_uptake = Ps[peak_index]\n",
    "                        min_uptakes_for_beta.append(min_PrEP_uptake)\n",
    "                        max_Y.append(Y[peak_index])  \n",
    "                    else:\n",
    "                        min_uptakes_for_beta.append(0)\n",
    "                        max_Y.append(0)\n",
    "                else:\n",
    "                    min_uptakes_for_beta.append(0)\n",
    "                    max_Y.append(0)\n",
    "            \n",
    "            min_PrEP_uptake_values[beta_STI] = np.array(min_uptakes_for_beta)\n",
    "            \n",
    "        return min_PrEP_uptake_values, max_Y\n",
    "\n",
    "    # Compute min PrEP uptake values dynamically\n",
    "    min_PrEP_uptake_values, max_Y = calculate_min_PrEP_uptake_values(beta_STI_values, lambda_P_values, results, Ps, row_index)\n",
    "\n",
    "    # Scatter plot for additional points with conditional coloring\n",
    "    for beta_STI in beta_STI_values:\n",
    "        points_y = min_PrEP_uptake_values[beta_STI]\n",
    "        colors = ['red' if p < 1 else 'black' for p in points_y]  # Color based on condition\n",
    "        ax.scatter(points_y, np.array(lambda_P_values), np.array(max_Y), c=colors, marker='o', label=\"Min PrEP Uptake\")\n",
    "\n",
    "    ax.legend()\n",
    "    plt.show()\n",
    "\n",
    "# Create the interactive slider\n",
    "interact(plot_3d, row_index=(0, 100, 1))\n"
   ]
  },
  {
   "cell_type": "code",
   "execution_count": null,
   "metadata": {},
   "outputs": [
    {
     "data": {
      "application/vnd.jupyter.widget-view+json": {
       "model_id": "95dc6abd9a264b6ca80fb52e85b2a7ac",
       "version_major": 2,
       "version_minor": 0
      },
      "text/plain": [
       "interactive(children=(IntSlider(value=0, description='row_index'), Output()), _dom_classes=('widget-interact',…"
      ]
     },
     "metadata": {},
     "output_type": "display_data"
    },
    {
     "data": {
      "text/plain": [
       "<function __main__.plot_3d(row_index=0)>"
      ]
     },
     "execution_count": 4,
     "metadata": {},
     "output_type": "execute_result"
    }
   ],
   "source": [
    "import numpy as np\n",
    "import matplotlib.pyplot as plt\n",
    "from mpl_toolkits.mplot3d import Axes3D\n",
    "from ipywidgets import interact\n",
    "\n",
    "# Assuming 'results' is defined\n",
    "Hs = np.linspace(0, 0.2, 101)\n",
    "Ps = np.linspace(0, 1, 201)\n",
    "\n",
    "# Define the specific values for lambda_P and beta_STI\n",
    "lambda_P_values = np.linspace(4/360, 0, 20001)[::10]  # Downsample for speed\n",
    "beta_STI_values = np.array([7]) * 0.0016\n",
    "\n",
    "def plot_3d(row_index=0):\n",
    "    global results, Ps  \n",
    "\n",
    "    x_values = []\n",
    "    y_values = []\n",
    "    z_values = []\n",
    "\n",
    "    # Collect data for the main 3D scatter plot\n",
    "    for (beta_STI, lambda_P), result in results.items():\n",
    "        if beta_STI == 7 * 0.0016:\n",
    "            x_values.extend(Ps)\n",
    "            if row_index < result.shape[0]:\n",
    "                y_values.extend(result[row_index, :])  \n",
    "            else:\n",
    "                y_values.extend(np.zeros_like(Ps))  \n",
    "            z_values.extend([lambda_P] * len(Ps))\n",
    "\n",
    "    x_values = np.array(x_values)\n",
    "    y_values = np.array(y_values)\n",
    "    z_values = np.array(z_values)\n",
    "    \n",
    "    # Create figure\n",
    "    fig = plt.figure(figsize=(10, 7))\n",
    "    ax = fig.add_subplot(111, projection='3d')\n",
    "\n",
    "    # Labels and settings\n",
    "    ax.set_xlabel('P')\n",
    "    ax.set_ylabel('$\\\\lambda_P$')\n",
    "    ax.set_zlabel('New cases')\n",
    "    ax.set_xticks([0, 0.5, 1])\n",
    "    ax.set_xticklabels([\"0\", \"0.5\", \"1\"])\n",
    "    ax.set_yticks([0/360, 1/360, 2/360, 3/360, 4/360])\n",
    "    ax.set_yticklabels([\"0/yr\", \"1/yr\", \"2/yr\", \"3/yr\", \"4/yr\"])\n",
    "    ax.set_title('3D Plot of Results')\n",
    "\n",
    "    # Function to calculate min PrEP uptake dynamically\n",
    "    def calculate_min_PrEP_uptake_values(beta_STI_values, lambda_P_values, results, Ps, row_index):\n",
    "        min_PrEP_uptake_values = {}\n",
    "        max_Y = []\n",
    "\n",
    "        for beta_STI in beta_STI_values:\n",
    "            min_uptakes_for_beta = []\n",
    "            for lambda_P in lambda_P_values:\n",
    "                if (beta_STI, lambda_P) in results:  # Check if key exists\n",
    "                    data = results[(beta_STI, lambda_P)]\n",
    "                    if row_index < data.shape[0]:  # Ensure valid index\n",
    "                        Y = data[row_index, :] \n",
    "                        peak_index = np.argmax(Y)\n",
    "                        min_PrEP_uptake = Ps[peak_index]\n",
    "                        min_uptakes_for_beta.append(min_PrEP_uptake)\n",
    "                        max_Y.append(Y[peak_index])  \n",
    "                    else:\n",
    "                        min_uptakes_for_beta.append(0)\n",
    "                        max_Y.append(0)\n",
    "                else:\n",
    "                    min_uptakes_for_beta.append(0)\n",
    "                    max_Y.append(0)\n",
    "            \n",
    "            min_PrEP_uptake_values[beta_STI] = np.array(min_uptakes_for_beta)\n",
    "            \n",
    "        return min_PrEP_uptake_values, max_Y\n",
    "\n",
    "    # Compute min PrEP uptake values dynamically\n",
    "    min_PrEP_uptake_values, max_Y = calculate_min_PrEP_uptake_values(beta_STI_values, lambda_P_values, results, Ps, row_index)\n",
    "\n",
    "    # Scatter plot for additional points with conditional coloring\n",
    "    for beta_STI in beta_STI_values:\n",
    "        points_y = min_PrEP_uptake_values[beta_STI]\n",
    "        colors = ['red' if p < 1 else 'black' for p in points_y]  # Color based on condition\n",
    "        ax.scatter(points_y, np.array(lambda_P_values), np.array(max_Y), c=colors, marker='o', label=\"Min PrEP Uptake\")\n",
    "\n",
    "        # Add vertical lines parallel to X and Y axes\n",
    "        for px, py, pz in zip(points_y, lambda_P_values, max_Y):\n",
    "            ax.plot([px, px], [py, py], [0, pz], color='gray', linestyle='dashed', alpha=0.5)  # Z-axis line\n",
    "            ax.plot([px, px], [0, py], [pz, pz], color='gray', linestyle='dashed', alpha=0.5)  # Y-axis line\n",
    "    \n",
    "    ax.legend()\n",
    "    plt.show()\n",
    "\n",
    "# Create the interactive slider\n",
    "interact(plot_3d, row_index=(0, 100, 1))\n"
   ]
  }
 ],
 "metadata": {
  "kernelspec": {
   "display_name": "t_a_p_m",
   "language": "python",
   "name": "python3"
  },
  "language_info": {
   "codemirror_mode": {
    "name": "ipython",
    "version": 3
   },
   "file_extension": ".py",
   "mimetype": "text/x-python",
   "name": "python",
   "nbconvert_exporter": "python",
   "pygments_lexer": "ipython3",
   "version": "3.12.4"
  }
 },
 "nbformat": 4,
 "nbformat_minor": 2
}
