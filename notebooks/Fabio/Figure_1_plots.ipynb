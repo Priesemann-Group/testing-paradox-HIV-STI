{
 "cells": [
  {
   "cell_type": "markdown",
   "metadata": {},
   "source": [
    "# For nice plots\n"
   ]
  },
  {
   "cell_type": "code",
   "execution_count": 1,
   "metadata": {},
   "outputs": [
    {
     "name": "stderr",
     "output_type": "stream",
     "text": [
      "WARNING:pytensor.configdefaults:g++ not available, if using conda: `conda install m2w64-toolchain`\n",
      "WARNING:pytensor.configdefaults:g++ not detected!  PyTensor will be unable to compile C-implementations and will default to Python. Performance may be severely degraded. To remove this warning, set PyTensor flags cxx to an empty string.\n",
      "WARNING:pytensor.tensor.blas:Using NumPy C-API based implementation for BLAS functions.\n"
     ]
    }
   ],
   "source": [
    "import numpy as np\n",
    "import matplotlib.pyplot as plt\n",
    "from matplotlib.ticker import FuncFormatter\n",
    "from matplotlib.colors import ListedColormap\n",
    "\n",
    "from miscellanea import *\n",
    "from tapm import utils"
   ]
  },
  {
   "cell_type": "code",
   "execution_count": 2,
   "metadata": {},
   "outputs": [],
   "source": [
    "def prettify(ax):\n",
    "    # set ticks position\n",
    "    ax.set_xticks([0, 100, 200])\n",
    "    ax.set_yticks([0, 50, 100])\n",
    "    \n",
    "    # remove ticks labels\n",
    "    ax.set_xticklabels([])\n",
    "    ax.set_yticklabels([])\n",
    "\n",
    "    # increase thickness of ticks\n",
    "    ax.tick_params(width=1)\n",
    "    # increase thickness of box\n",
    "    for axis in [\"top\", \"bottom\", \"left\", \"right\"]:\n",
    "        ax.spines[axis].set_linewidth(1)\n",
    "\n",
    "colors = [\"#8c2d04\", \"#ec7014\", \"#fec44f\"]\n",
    "\n",
    "def discretize_cmaps(cmap, N):\n",
    "    cmap = plt.colormaps[cmap]\n",
    "    colors = cmap(np.linspace(0, 1, N))\n",
    "    res = ListedColormap(colors)\n",
    "    res.set_bad(\"#ABABAB\")\n",
    "    return res\n",
    "\n",
    "\n",
    "\n",
    "Lx = 18/5\n",
    "Ly = 9/5\n",
    "\n",
    "# converts Lx from cm to inches\n",
    "Lx = Lx / 2.54\n",
    "Ly = Ly / 2.54"
   ]
  },
  {
   "cell_type": "markdown",
   "metadata": {},
   "source": [
    "# Parameters of the system and basic function definitions"
   ]
  },
  {
   "cell_type": "code",
   "execution_count": 3,
   "metadata": {},
   "outputs": [],
   "source": [
    "# Parameters\n",
    "args, y0 = utils.read_params(filename=\"model_params.txt\")\n"
   ]
  },
  {
   "cell_type": "markdown",
   "metadata": {},
   "source": [
    "# Final Figure"
   ]
  },
  {
   "cell_type": "code",
   "execution_count": 4,
   "metadata": {},
   "outputs": [],
   "source": [
    "# Define the ranges for H and P values\n",
    "Hs = np.linspace(0, 0.2, 101)\n",
    "Ps = np.linspace(0, 1.0, 201)\n",
    "\n",
    "# Define the specific values for lambda_P and beta_STI\n",
    "lambda_P_values = np.array([4,2,1]) /360\n",
    "beta_STI_values = np.array([3, 5, 7]) * 0.0016\n",
    "\n",
    "results = {}\n",
    "\n",
    "\n",
    "for beta_STI in beta_STI_values:\n",
    "    obSTI = args[\"beta_STI\"]\n",
    "    args[\"beta_STI\"] = beta_STI  # Override the beta_STI value in args\n",
    "    for lambda_P in lambda_P_values:\n",
    "        result = np.zeros((len(Hs), len(Ps)))\n",
    "        for i, H in enumerate(Hs):\n",
    "            for j, P in enumerate(Ps):\n",
    "                m = calculate_m(H,args)\n",
    "                lambda_a = calculate_lambda_a(args, lambda_P, m, P, H)\n",
    "                lambda_s = calculate_lambda_s(args, lambda_a)\n",
    "                alpha = calculate_alpha(P, m, args)\n",
    "                a = calculate_a(args, lambda_s)\n",
    "                b = calculate_b(args, lambda_a)\n",
    "                S = calculate_S(args, lambda_P, H, P)\n",
    "                if calculate_Ro(args, lambda_P, H, P) > 1:\n",
    "                    result[i, j] = (\n",
    "                        beta_STI\n",
    "                        * ((1 - m) * (1 - P) + P)\n",
    "                        * S\n",
    "                        * (\n",
    "                            calculate_I_Assymp(args, lambda_P, H, P)\n",
    "                            + calculate_I_Symp(args, lambda_P, H, P)\n",
    "                        )\n",
    "                    )\n",
    "        results[(beta_STI, lambda_P)] = result\n",
    "    args[\"beta_STI\"] = obSTI  # Reset the beta_STI value in\n",
    "\n"
   ]
  },
  {
   "cell_type": "code",
   "execution_count": 5,
   "metadata": {},
   "outputs": [],
   "source": [
    "# Determine the global vmin and vmax\n",
    "all_infections = np.concatenate(\n",
    "    [\n",
    "        results[(beta_STI, lambda_P)].flatten()\n",
    "        for beta_STI in beta_STI_values\n",
    "        for lambda_P in lambda_P_values\n",
    "    ]\n",
    ")\n",
    "global_vmin = np.min(all_infections)\n",
    "global_vmax = np.max(all_infections)"
   ]
  },
  {
   "cell_type": "code",
   "execution_count": 6,
   "metadata": {},
   "outputs": [
    {
     "data": {
      "image/png": "[encoded data removed]",
      "text/plain": [
       "<Figure size 141.732x70.8661 with 1 Axes>"
      ]
     },
     "metadata": {},
     "output_type": "display_data"
    },
    {
     "data": {
      "image/png": "[encoded data removed]",
      "text/plain": [
       "<Figure size 141.732x70.8661 with 1 Axes>"
      ]
     },
     "metadata": {},
     "output_type": "display_data"
    }
   ],
   "source": [
    "fig, ax = plt.subplots(1, 1, figsize=(Lx, Ly))\n",
    "indx_beta = 1\n",
    "beta_STI = beta_STI_values[indx_beta]\n",
    "for indx_lambda, lambda_P in enumerate(lambda_P_values):\n",
    "    data = results[(beta_STI, lambda_P)]\n",
    "    Y = data[0,:]\n",
    "    ax.plot(Ps, Y, color = colors[2-indx_lambda], label=\"H = 0\")\n",
    "    ax.set_xlim(0, 1)\n",
    "    ax.set_ylim(-0.003/100, 0.003)\n",
    "    ax.set_xticks([0, 0.5, 1])\n",
    "    ax.set_yticks([0, 0.0015, 0.003])\n",
    "    ax.set_xticklabels([])\n",
    "    ax.set_yticklabels([])\n",
    "    # remove top and right spines\n",
    "    ax.spines['top'].set_visible(False)\n",
    "    ax.spines['right'].set_visible(False)\n",
    "\n",
    "    #save the figure as a pdf. transparent=True makes the background transparent\n",
    "    fig.savefig(f\"../../figures/fig_2_beta_1.pdf\", transparent=True)\n",
    "\n",
    "fig, ax = plt.subplots(1, 1, figsize=(Lx, Ly))\n",
    "indx_beta = 2\n",
    "beta_STI = beta_STI_values[indx_beta]\n",
    "for indx_lambda, lambda_P in enumerate(lambda_P_values):\n",
    "    data = results[(beta_STI, lambda_P)]\n",
    "    Y = data[0,:]\n",
    "    ax.plot(Ps, Y, color = colors[2-indx_lambda], label=\"H = 0\")\n",
    "    ax.set_xlim(0, 1)\n",
    "    ax.set_ylim(-0.003/100, 0.003)\n",
    "    ax.set_xticks([0, 0.5, 1])\n",
    "    ax.set_yticks([0, 0.0015, 0.003])\n",
    "    ax.set_xticklabels([])\n",
    "    ax.set_yticklabels([])\n",
    "    # remove top and right spines\n",
    "    ax.spines['top'].set_visible(False)\n",
    "    ax.spines['right'].set_visible(False)\n",
    "\n",
    "    #save the figure as a pdf. transparent=True makes the background transparent\n",
    "    fig.savefig(f\"../../figures/fig_2_beta_2.pdf\", transparent=True)\n",
    "\n",
    "\n",
    "\n",
    "        \n"
   ]
  },
  {
   "cell_type": "code",
   "execution_count": 89,
   "metadata": {},
   "outputs": [
    {
     "name": "stderr",
     "output_type": "stream",
     "text": [
      "C:\\Users\\nel_t\\AppData\\Local\\Temp\\ipykernel_1672\\1836460927.py:51: UserWarning: Adding colorbar to a different Figure <Figure size 141.732x70.8661 with 1 Axes> than <Figure size 14.1732x162.992 with 1 Axes> which fig.colorbar is called on.\n",
      "  fig.colorbar(c1, cax=ax)\n"
     ]
    },
    {
     "data": {
      "image/png": "[encoded data removed]",
      "text/plain": [
       "<Figure size 141.732x70.8661 with 1 Axes>"
      ]
     },
     "metadata": {},
     "output_type": "display_data"
    },
    {
     "data": {
      "image/png": "[encoded data removed]",
      "text/plain": [
       "<Figure size 141.732x70.8661 with 1 Axes>"
      ]
     },
     "metadata": {},
     "output_type": "display_data"
    },
    {
     "data": {
      "image/png": "[encoded data removed]",
      "text/plain": [
       "<Figure size 141.732x70.8661 with 1 Axes>"
      ]
     },
     "metadata": {},
     "output_type": "display_data"
    },
    {
     "data": {
      "image/png": "[encoded data removed]",
      "text/plain": [
       "<Figure size 141.732x70.8661 with 1 Axes>"
      ]
     },
     "metadata": {},
     "output_type": "display_data"
    },
    {
     "data": {
      "image/png": "[encoded data removed]",
      "text/plain": [
       "<Figure size 141.732x70.8661 with 1 Axes>"
      ]
     },
     "metadata": {},
     "output_type": "display_data"
    },
    {
     "data": {
      "image/png": "[encoded data removed]",
      "text/plain": [
       "<Figure size 141.732x70.8661 with 1 Axes>"
      ]
     },
     "metadata": {},
     "output_type": "display_data"
    },
    {
     "data": {
      "image/png": "[encoded data removed]",
      "text/plain": [
       "<Figure size 141.732x70.8661 with 1 Axes>"
      ]
     },
     "metadata": {},
     "output_type": "display_data"
    },
    {
     "data": {
      "image/png": "[encoded data removed]",
      "text/plain": [
       "<Figure size 141.732x70.8661 with 1 Axes>"
      ]
     },
     "metadata": {},
     "output_type": "display_data"
    },
    {
     "data": {
      "image/png": "[encoded data removed]",
      "text/plain": [
       "<Figure size 141.732x70.8661 with 1 Axes>"
      ]
     },
     "metadata": {},
     "output_type": "display_data"
    },
    {
     "data": {
      "image/png": "[encoded data removed]",
      "text/plain": [
       "<Figure size 14.1732x162.992 with 1 Axes>"
      ]
     },
     "metadata": {},
     "output_type": "display_data"
    }
   ],
   "source": [
    "from matplotlib.colors import ListedColormap, BoundaryNorm\n",
    "from matplotlib.colors import Normalize\n",
    "from matplotlib.patches import Rectangle\n",
    "from matplotlib.collections import PatchCollection\n",
    "\n",
    "# plot panel D: beta_STI= 0.008, lambda_P= 4\n",
    "global_vmin = np.min(all_infections)\n",
    "global_vmax = np.max(all_infections)\n",
    "\n",
    "for indx_beta, beta_STI in enumerate(beta_STI_values):\n",
    "    for indx_lambda, lambda_P in enumerate(lambda_P_values):\n",
    "        fig, ax = plt.subplots(figsize=(Lx, Ly))\n",
    "        res_infections = results[(beta_STI, lambda_P)].copy()\n",
    "        \n",
    "        data = res_infections.copy()\n",
    "        threshold = 0.00003\n",
    "        \n",
    "        # Find where data < threshold and set it to np.nan\n",
    "        # \n",
    "        data[data < threshold] = np.nan \n",
    "        #masked_data = np.ma.masked_less(data, threshold)\n",
    "\n",
    "\n",
    "        # print the heatmap with a fixed number of colors:\n",
    "        my_cmap = discretize_cmaps(\"viridis\", 15)\n",
    "\n",
    "        \n",
    "        # set all the res_infections < 0.01 to np.nan\n",
    "\n",
    "        cax = ax.imshow(data, origin=\"lower\", vmin=global_vmin, vmax=global_vmax, cmap = my_cmap)\n",
    "\n",
    "\n",
    "\n",
    "        prettify(ax)\n",
    "        # reduce the thickness of the box\n",
    "        for axis in [\"top\", \"bottom\", \"left\", \"right\"]:\n",
    "            ax.spines[axis].set_linewidth(0.5)\n",
    "        # reduce the thickness of the ticks\n",
    "        ax.tick_params(width=0.5)\n",
    "\n",
    "        # add countour for R0=1, res_infections = 0)\n",
    "        ax.contour(res_infections, levels=[threshold], colors=colors[2-indx_lambda], linewidths=2)\n",
    "\n",
    "        fig.savefig(f\"../../figures/fig4_{indx_beta+1}{indx_lambda}.pdf\", transparent=True)\n",
    "\n",
    "\n",
    "c1 = cax\n",
    "\n",
    "# Create a new figure and axis for the colorbar\n",
    "fig, ax = plt.subplots(figsize=(Lx/10, Ly*2.3))  # Adjust the figure size to fit the colorbar\n",
    "fig.colorbar(c1, cax=ax)\n",
    "# remove the tickslabel\n",
    "ax.set_yticks([0,0.0015,0.003])\n",
    "ax.set_yticklabels([])\n",
    "\n",
    "# Save the colorbar figure\n",
    "plt.savefig('../../figures/colorbar_only.pdf', bbox_inches='tight', pad_inches=0.1,transparent=True)\n",
    "plt.show()"
   ]
  },
  {
   "cell_type": "code",
   "execution_count": 82,
   "metadata": {},
   "outputs": [
    {
     "name": "stderr",
     "output_type": "stream",
     "text": [
      "C:\\Users\\nel_t\\AppData\\Local\\Temp\\ipykernel_1672\\2305170912.py:2: UserWarning: Adding colorbar to a different Figure <Figure size 177.165x88.5827 with 1 Axes> than <Figure size 11.811x194.882 with 1 Axes> which fig.colorbar is called on.\n",
      "  fig.colorbar(c1, cax=ax)\n",
      "C:\\Users\\nel_t\\AppData\\Local\\Temp\\ipykernel_1672\\2305170912.py:14: UserWarning: FigureCanvasAgg is non-interactive, and thus cannot be shown\n",
      "  fig.show()\n"
     ]
    },
    {
     "data": {
      "image/png": "[encoded data removed]",
      "text/plain": [
       "<Figure size 11.811x194.882 with 1 Axes>"
      ]
     },
     "metadata": {},
     "output_type": "display_data"
    }
   ],
   "source": [
    "fig, ax = plt.subplots(figsize=(Lx/15, Ly*2.2))  # Adjust the figure size to fit the colorbar\n",
    "fig.colorbar(c1, cax=ax)\n",
    "# remove the tickslabel\n",
    "ax.set_yticks([0,0.0015,0.003])\n",
    "ax.set_yticklabels([])\n",
    "# reduce the thickness of the ticks\n",
    "ax.tick_params(width=0.5)\n",
    "# reduce the thickness of the box\n",
    "for axis in [\"top\", \"bottom\", \"left\", \"right\"]:\n",
    "    ax.spines[axis].set_linewidth(0)\n",
    "\n",
    "# Save the colorbar figure\n",
    "fig.savefig('../../figures/colorbar_only.pdf', bbox_inches='tight', pad_inches=0.1,transparent=True)\n",
    "fig.show()"
   ]
  },
  {
   "cell_type": "code",
   "execution_count": 66,
   "metadata": {},
   "outputs": [],
   "source": [
    "# plot the N_new for P=0 and all the other sets\n",
    "\n",
    "res1 = np.zeros((len(lambda_P_values), len(beta_STI_values), len(Ps)))\n",
    "\n",
    "for indx_lambda, lambda_P in enumerate(lambda_P_values):\n",
    "    for indx_beta, beta_STI in enumerate(beta_STI_values):\n",
    "        res1[indx_lambda, indx_beta, :] = results[(beta_STI, lambda_P)][0, :]"
   ]
  },
  {
   "cell_type": "code",
   "execution_count": 67,
   "metadata": {},
   "outputs": [
    {
     "data": {
      "text/plain": [
       "[<matplotlib.lines.Line2D at 0x225d8782690>]"
      ]
     },
     "execution_count": 67,
     "metadata": {},
     "output_type": "execute_result"
    },
    {
     "data": {
      "image/png": "[encoded data removed]",
      "text/plain": [
       "<Figure size 300x200 with 1 Axes>"
      ]
     },
     "metadata": {},
     "output_type": "display_data"
    },
    {
     "data": {
      "image/png": "[encoded data removed]",
      "text/plain": [
       "<Figure size 300x200 with 1 Axes>"
      ]
     },
     "metadata": {},
     "output_type": "display_data"
    }
   ],
   "source": [
    "fig, axs = plt.subplots(1, 1, figsize=(3, 2))\n",
    "\n",
    "axs.plot(Ps, res1[0, 0, :], label=r\"$\\lambda_P=4$\", color=colors[2])\n",
    "axs.plot(Ps, res1[1, 0, :], label=r\"$\\lambda_P=2$\", color=colors[1])\n",
    "axs.plot(Ps, res1[2, 0, :], label=r\"$\\lambda_P=1$\", color=colors[0])\n",
    "\n",
    "fig, axs = plt.subplots(1, 1, figsize=(3, 2))\n",
    "\n",
    "axs.plot(Ps, res1[0, 1, :], label=r\"$\\lambda_P=4$\", color=colors[2])\n",
    "axs.plot(Ps, res1[1, 1, :], label=r\"$\\lambda_P=2$\", color=colors[1])\n",
    "axs.plot(Ps, res1[2, 1, :], label=r\"$\\lambda_P=1$\", color=colors[0])\n",
    "\n"
   ]
  }
 ],
 "metadata": {
  "kernelspec": {
   "display_name": "base",
   "language": "python",
   "name": "python3"
  },
  "language_info": {
   "codemirror_mode": {
    "name": "ipython",
    "version": 3
   },
   "file_extension": ".py",
   "mimetype": "text/x-python",
   "name": "python",
   "nbconvert_exporter": "python",
   "pygments_lexer": "ipython3",
   "version": "3.12.4"
  }
 },
 "nbformat": 4,
 "nbformat_minor": 2
}
