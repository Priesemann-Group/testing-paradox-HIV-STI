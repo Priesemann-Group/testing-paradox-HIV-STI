{
 "cells": [
  {
   "cell_type": "code",
   "execution_count": 1,
   "metadata": {},
   "outputs": [
    {
     "name": "stderr",
     "output_type": "stream",
     "text": [
      "INFO:jax._src.xla_bridge:Unable to initialize backend 'cuda': module 'jaxlib.xla_extension' has no attribute 'GpuAllocatorConfig'\n",
      "INFO:jax._src.xla_bridge:Unable to initialize backend 'rocm': module 'jaxlib.xla_extension' has no attribute 'GpuAllocatorConfig'\n",
      "INFO:jax._src.xla_bridge:Unable to initialize backend 'tpu': INTERNAL: Failed to open libtpu.so: libtpu.so: cannot open shared object file: No such file or directory\n"
     ]
    }
   ],
   "source": [
    "import jax.numpy as jnp\n",
    "import matplotlib.pyplot as plt\n",
    "import sys\n",
    "sys.path.append(\"../src/\")\n",
    "from tapm import model_HIVandSTI\n",
    "from tapm import utils\n",
    "import icomo\n",
    "import diffrax\n",
    "import numpy as np"
   ]
  },
  {
   "cell_type": "code",
   "execution_count": 2,
   "metadata": {},
   "outputs": [
    {
     "name": "stderr",
     "output_type": "stream",
     "text": [
      "INFO:tapm.HIVandSTI.model_HIVandSTI:Using exponential function to calculate m\n",
      "INFO:tapm.HIVandSTI.model_HIVandSTI:Parameters: min_exp = 0.0, max_exp = 1.0, tau_exp = 0.2\n"
     ]
    }
   ],
   "source": [
    "#output = integrator(y0=y0, constant_args=args)\n",
    "output = icomo.diffeqsolve(\n",
    "    args = model_HIVandSTI.args,\n",
    "    ODE = model_HIVandSTI.main_model,\n",
    "    y0 = model_HIVandSTI.y0,\n",
    "    ts_out = np.linspace(0, 365*20, 365*20+1),\n",
    "    max_steps=365*20+1)"
   ]
  },
  {
   "cell_type": "code",
   "execution_count": null,
   "metadata": {},
   "outputs": [],
   "source": []
  },
  {
   "cell_type": "code",
   "execution_count": null,
   "metadata": {},
   "outputs": [],
   "source": []
  },
  {
   "cell_type": "code",
   "execution_count": 4,
   "metadata": {},
   "outputs": [],
   "source": [
    "def n_observed(args, y):\n",
    "    out = args[\"lambda_s\"]*jnp.sum(jnp.array([y[\"Is1_STI\"], y[\"Is2_STI\"], y[\"Is3_STI\"], y[\"Is4_STI\"]]))+model_HIVandSTI.lambda_a(args=args, y=y)*jnp.sum(jnp.array([y[\"Ia1_STI\"], y[\"Ia2_STI\"], y[\"Ia3_STI\"], y[\"Ia4_STI\"]]))\n",
    "    return out"
   ]
  },
  {
   "cell_type": "code",
   "execution_count": 5,
   "metadata": {},
   "outputs": [
    {
     "ename": "KeyError",
     "evalue": "'Is1_STI'",
     "output_type": "error",
     "traceback": [
      "\u001b[0;31m---------------------------------------------------------------------------\u001b[0m",
      "\u001b[0;31mKeyError\u001b[0m                                  Traceback (most recent call last)",
      "Cell \u001b[0;32mIn[5], line 6\u001b[0m\n\u001b[1;32m      4\u001b[0m \u001b[38;5;66;03m# STI\u001b[39;00m\n\u001b[1;32m      5\u001b[0m ax \u001b[38;5;241m=\u001b[39m axes[\u001b[38;5;241m0\u001b[39m]\n\u001b[0;32m----> 6\u001b[0m ax\u001b[38;5;241m.\u001b[39mplot(output\u001b[38;5;241m.\u001b[39mys[\u001b[38;5;124m\"\u001b[39m\u001b[38;5;124mIs1_STI\u001b[39m\u001b[38;5;124m\"\u001b[39m]\u001b[38;5;241m+\u001b[39moutput\u001b[38;5;241m.\u001b[39mys[\u001b[38;5;124m\"\u001b[39m\u001b[38;5;124mIa1_STI\u001b[39m\u001b[38;5;124m\"\u001b[39m], label\u001b[38;5;241m=\u001b[39m\u001b[38;5;124m\"\u001b[39m\u001b[38;5;124mInfected- STI - RG 1\u001b[39m\u001b[38;5;124m\"\u001b[39m)\n\u001b[1;32m      7\u001b[0m ax\u001b[38;5;241m.\u001b[39mplot(output\u001b[38;5;241m.\u001b[39mys[\u001b[38;5;124m\"\u001b[39m\u001b[38;5;124mIs2_STI\u001b[39m\u001b[38;5;124m\"\u001b[39m]\u001b[38;5;241m+\u001b[39moutput\u001b[38;5;241m.\u001b[39mys[\u001b[38;5;124m\"\u001b[39m\u001b[38;5;124mIa2_STI\u001b[39m\u001b[38;5;124m\"\u001b[39m] , label\u001b[38;5;241m=\u001b[39m\u001b[38;5;124m\"\u001b[39m\u001b[38;5;124mInfected- STI - RG 2\u001b[39m\u001b[38;5;124m\"\u001b[39m)\n\u001b[1;32m      8\u001b[0m ax\u001b[38;5;241m.\u001b[39mplot(output\u001b[38;5;241m.\u001b[39mys[\u001b[38;5;124m\"\u001b[39m\u001b[38;5;124mIs3_STI\u001b[39m\u001b[38;5;124m\"\u001b[39m]\u001b[38;5;241m+\u001b[39moutput\u001b[38;5;241m.\u001b[39mys[\u001b[38;5;124m\"\u001b[39m\u001b[38;5;124mIa3_STI\u001b[39m\u001b[38;5;124m\"\u001b[39m], label\u001b[38;5;241m=\u001b[39m\u001b[38;5;124m\"\u001b[39m\u001b[38;5;124mInfected- STI - RG 3\u001b[39m\u001b[38;5;124m\"\u001b[39m)\n",
      "\u001b[0;31mKeyError\u001b[0m: 'Is1_STI'"
     ]
    },
    {
     "data": {
      "image/png": "[encoded data removed]",
      "text/plain": [
       "<Figure size 1200x300 with 3 Axes>"
      ]
     },
     "metadata": {},
     "output_type": "display_data"
    }
   ],
   "source": [
    "\n",
    "fig, axes = plt.subplots(1, 3, figsize=(12,3))\n",
    "fig.subplots_adjust(wspace=0.5)\n",
    "\n",
    "# STI\n",
    "ax = axes[0]\n",
    "ax.plot(output.ys[\"Is1_STI\"]+output.ys[\"Ia1_STI\"], label=\"Infected- STI - RG 1\")\n",
    "ax.plot(output.ys[\"Is2_STI\"]+output.ys[\"Ia2_STI\"] , label=\"Infected- STI - RG 2\")\n",
    "ax.plot(output.ys[\"Is3_STI\"]+output.ys[\"Ia3_STI\"], label=\"Infected- STI - RG 3\")\n",
    "ax.plot(output.ys[\"Is4_STI\"]+output.ys[\"Ia4_STI\"], label=\"Infected- STI - RG 4\")\n",
    "ax.set_ylabel(\"Number of people\")\n",
    "ax.set_xlabel(\"Time\")\n",
    "ax.set_title(\"STI\")\n",
    "ax.legend()\n",
    "print(\"STI done\")\n",
    "\n",
    "# HIV\n",
    "ax = axes[1]\n",
    "ax.plot(output.ys[\"A11\"]+output.ys[\"A12\"]+output.ys[\"A13\"]+output.ys[\"A14\"], label=\"ART - RG 1\", color=\"blue\")\n",
    "ax.plot(output.ys[\"A21\"]+output.ys[\"A22\"]+output.ys[\"A23\"]+output.ys[\"A24\"], label=\"ART - RG\", color=\"steelblue\")\n",
    "ax.plot(output.ys[\"A31\"]+output.ys[\"A32\"]+output.ys[\"A33\"]+output.ys[\"A34\"], label=\"ART - RG 3\", color=\"lightblue\")\n",
    "ax.plot(output.ys[\"A41\"]+output.ys[\"A42\"]+output.ys[\"A43\"]+output.ys[\"A44\"], label=\"ART - RG 4\", color=\"navy\")\n",
    "# I per risk group in different shades of red\n",
    "ax.plot(output.ys[\"I11\"]+output.ys[\"IP11\"]+output.ys[\"I12\"]+output.ys[\"I13\"]+output.ys[\"I14\"], label=\"Infected - RG 1\", color=\"red\")\n",
    "ax.plot(output.ys[\"I21\"]+output.ys[\"IP21\"]+output.ys[\"I22\"]+output.ys[\"I23\"]+output.ys[\"I24\"], label=\"Infected - RG 2\", color=\"darkred\")\n",
    "ax.plot(output.ys[\"I31\"]+output.ys[\"IP31\"]+output.ys[\"I32\"]+output.ys[\"I33\"]+output.ys[\"I34\"], label=\"Infected - RG 3\", color=\"lightcoral\")\n",
    "ax.plot(output.ys[\"I41\"]+output.ys[\"IP41\"]+output.ys[\"I42\"]+output.ys[\"I43\"]+output.ys[\"I44\"], label=\"Infected - RG 4\", color=\"hotpink\")\n",
    "ax.set_ylabel(\"Number of people\")\n",
    "ax.set_xlabel(\"Time\")\n",
    "ax.set_title(\"HIV\")\n",
    "ax.legend()\n",
    "print(\"HIV done\")\n",
    "\n",
    "# hazard\n",
    "ax = axes[2]\n",
    "all_HIV_keys = [\"S1\",\"S2\",\"S3\",\"S4\",\"SP1\",\"SP2\",\"SP3\",\"SP4\",\"I11\",\"I21\",\"I31\",\"I41\",\"IP11\",\"IP21\",\"IP31\",\"IP41\",\"I12\",\"I22\",\"I32\",\"I42\",\"I13\",\"I23\",\"I33\",\"I43\",\"I14\",\"I24\",\"I34\",\"I44\",\"A11\",\"A21\",\"A31\",\"A41\",\"A12\",\"A22\",\"A32\",\"A42\",\"A13\",\"A23\",\"A33\",\"A43\",\"A14\",\"A24\",\"A34\",\"A44\"]\n",
    "all_ART_keys = [\"A11\",\"A12\",\"A13\",\"A14\",\"A21\",\"A22\",\"A23\",\"A24\",\"A31\",\"A32\",\"A33\",\"A34\",\"A41\",\"A42\",\"A43\",\"A44\"]\n",
    "sum_vector = np.sum(np.array([output.ys[k] for k in all_HIV_keys]), axis=0) # gives the sum of all HIV compartments for each time point\n",
    "#for i in range(len(output.ys[\"A11\"])):\n",
    "#    compartment_values = jnp.array([output.ys[key][i] for key in all_ART_keys])\n",
    "#    hazard = jnp.sum(compartment_values) / sum_vector[i] *100\n",
    "#    ax.scatter(i, hazard, color=\"black\", s=1)\n",
    "compartment_matrix = np.array([output.ys[key] for key in all_ART_keys])  # Shape: (len(all_ART_keys), time_points)\n",
    "hazard_vector = jnp.sum(compartment_matrix, axis=0) / sum_vector * 100   # Vectorized hazard computation\n",
    "\n",
    "# Plot all points at once\n",
    "ax.scatter(range(len(hazard_vector)), hazard_vector, color=\"black\", s=1)\n",
    "ax.set_ylabel(\"Hazard (%)\")\n",
    "ax.set_xlabel(\"Time\")"
   ]
  },
  {
   "cell_type": "code",
   "execution_count": null,
   "metadata": {},
   "outputs": [],
   "source": [
    "\n",
    "#plt.plot(output.ys[\"S1_STI\"]+output.ys[\"S2_STI\"]+output.ys[\"S3_STI\"]+output.ys[\"S4_STI\"], label=\"Susceptible - STI\")\n",
    "#plt.plot(output.ys[\"Is1_STI\"]+output.ys[\"Is2_STI\"]+output.ys[\"Is3_STI\"]+output.ys[\"Is4_STI\"], label=\"Infected(Symptomatic) - STI\")\n",
    "#plt.plot(output.ys[\"Ia1_STI\"]+output.ys[\"Ia2_STI\"]+output.ys[\"Ia3_STI\"]+output.ys[\"Ia4_STI\"], label=\"Infected(Asymptomatic) - STI\")\n",
    "#plt.plot(output.ys[\"T1_STI\"]+output.ys[\"T2_STI\"]+output.ys[\"T3_STI\"]+output.ys[\"T4_STI\"], label=\"Treated - STI\")\n",
    "# plot infected by risk group\n",
    "plt.plot(output.ys[\"Is1_STI\"]+output.ys[\"Ia1_STI\"], label=\"Infected- STI - Risk Group 1\")\n",
    "plt.plot(output.ys[\"Is2_STI\"]+output.ys[\"Ia2_STI\"] , label=\"Infected- STI - Risk Group 2\")\n",
    "plt.plot(output.ys[\"Is3_STI\"]+output.ys[\"Ia3_STI\"], label=\"Infected- STI - Risk Group 3\")\n",
    "plt.plot(output.ys[\"Is4_STI\"]+output.ys[\"Ia4_STI\"], label=\"Infected- STI - Risk Group 4\")\n",
    "#plt.yscale('log')\n",
    "plt.legend()\n",
    "\n"
   ]
  },
  {
   "cell_type": "code",
   "execution_count": null,
   "metadata": {},
   "outputs": [],
   "source": [
    "# plot HIV\n",
    "\n",
    "plt.figure()\n",
    "#plt.plot(output.ys[\"S1\"]+output.ys[\"SP1\"]+output.ys[\"S2\"]+output.ys[\"SP2\"]+output.ys[\"S3\"]+output.ys[\"SP3\"]+output.ys[\"S4\"]+output.ys[\"SP4\"], label=\"Susceptible - HIV\")\n",
    "#plt.plot(output.ys[\"I11\"]+output.ys[\"IP11\"]+output.ys[\"I12\"]+output.ys[\"I13\"]+output.ys[\"I14\"]+output.ys[\"I21\"]+output.ys[\"IP21\"]+output.ys[\"I22\"]+output.ys[\"I23\"]+output.ys[\"I24\"]+output.ys[\"I31\"]+output.ys[\"IP31\"]+output.ys[\"I32\"]+output.ys[\"I33\"]+output.ys[\"I34\"]+output.ys[\"I41\"]+output.ys[\"IP41\"]+output.ys[\"I42\"]+output.ys[\"I43\"]+output.ys[\"I44\"], label=\"Infected - HIV\")\n",
    "#plt.plot(output.ys[\"A11\"]+output.ys[\"A12\"]+output.ys[\"A13\"]+output.ys[\"A14\"]+output.ys[\"A21\"]+output.ys[\"A22\"]+output.ys[\"A23\"]+output.ys[\"A24\"]+output.ys[\"A31\"]+output.ys[\"A32\"]+output.ys[\"A33\"]+output.ys[\"A34\"]+output.ys[\"A41\"]+output.ys[\"A42\"]+output.ys[\"A43\"]+output.ys[\"A44\"], label=\"ART - HIV\")\n",
    "# A per risk group in different shades of blue\n",
    "plt.plot(output.ys[\"A11\"]+output.ys[\"A12\"]+output.ys[\"A13\"]+output.ys[\"A14\"], label=\"ART - Risk group 1\", color=\"blue\")\n",
    "plt.plot(output.ys[\"A21\"]+output.ys[\"A22\"]+output.ys[\"A23\"]+output.ys[\"A24\"], label=\"ART - Risk group 2\", color=\"steelblue\")\n",
    "plt.plot(output.ys[\"A31\"]+output.ys[\"A32\"]+output.ys[\"A33\"]+output.ys[\"A34\"], label=\"ART - Risk group 3\", color=\"lightblue\")\n",
    "plt.plot(output.ys[\"A41\"]+output.ys[\"A42\"]+output.ys[\"A43\"]+output.ys[\"A44\"], label=\"ART - Risk group 4\", color=\"navy\")\n",
    "# I per risk group in different shades of red\n",
    "plt.plot(output.ys[\"I11\"]+output.ys[\"IP11\"]+output.ys[\"I12\"]+output.ys[\"I13\"]+output.ys[\"I14\"], label=\"Infected - Risk group 1\", color=\"red\")\n",
    "plt.plot(output.ys[\"I21\"]+output.ys[\"IP21\"]+output.ys[\"I22\"]+output.ys[\"I23\"]+output.ys[\"I24\"], label=\"Infected - Risk group 2\", color=\"darkred\")\n",
    "plt.plot(output.ys[\"I31\"]+output.ys[\"IP31\"]+output.ys[\"I32\"]+output.ys[\"I33\"]+output.ys[\"I34\"], label=\"Infected - Risk group 3\", color=\"lightcoral\")\n",
    "plt.plot(output.ys[\"I41\"]+output.ys[\"IP41\"]+output.ys[\"I42\"]+output.ys[\"I43\"]+output.ys[\"I44\"], label=\"Infected - Risk group 4\", color=\"hotpink\")\n",
    "plt.legend()\n",
    "I_comps = [\"I11\", \"I12\", \"I13\", \"I14\", \"I21\", \"I22\", \"I23\", \"I24\", \"I31\", \"I32\", \"I33\", \"I34\", \"I41\", \"I42\", \"I43\", \"I44\"]\n",
    "A_comps = [\"A11\", \"A12\", \"A13\", \"A14\", \"A21\", \"A22\", \"A23\", \"A24\", \"A31\", \"A32\", \"A33\", \"A34\", \"A41\", \"A42\", \"A43\", \"A44\"]\n",
    "S_comps = [\"S1\", \"SP1\", \"S2\", \"SP2\", \"S3\", \"SP3\", \"S4\", \"SP4\"]\n",
    "\n"
   ]
  },
  {
   "cell_type": "code",
   "execution_count": null,
   "metadata": {},
   "outputs": [],
   "source": []
  },
  {
   "cell_type": "code",
   "execution_count": null,
   "metadata": {},
   "outputs": [],
   "source": []
  },
  {
   "cell_type": "code",
   "execution_count": null,
   "metadata": {},
   "outputs": [],
   "source": []
  },
  {
   "cell_type": "code",
   "execution_count": null,
   "metadata": {},
   "outputs": [],
   "source": [
    "[\"I1\", \"I2\", \"I3\", \"I4\", \"D\"][:-1]"
   ]
  },
  {
   "cell_type": "code",
   "execution_count": null,
   "metadata": {},
   "outputs": [],
   "source": []
  }
 ],
 "metadata": {
  "kernelspec": {
   "display_name": "icomo",
   "language": "python",
   "name": "icomo"
  },
  "language_info": {
   "codemirror_mode": {
    "name": "ipython",
    "version": 3
   },
   "file_extension": ".py",
   "mimetype": "text/x-python",
   "name": "python",
   "nbconvert_exporter": "python",
   "pygments_lexer": "ipython3",
   "version": "3.11.5"
  }
 },
 "nbformat": 4,
 "nbformat_minor": 2
}
