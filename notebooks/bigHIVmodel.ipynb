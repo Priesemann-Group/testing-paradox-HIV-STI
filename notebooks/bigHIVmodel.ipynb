{
 "cells": [
  {
   "cell_type": "code",
   "execution_count": 1,
   "metadata": {},
   "outputs": [
    {
     "name": "stderr",
     "output_type": "stream",
     "text": [
      "WARNING:pytensor.configdefaults:g++ not available, if using conda: `conda install m2w64-toolchain`\n",
      "WARNING:pytensor.configdefaults:g++ not detected!  PyTensor will be unable to compile C-implementations and will default to Python. Performance may be severely degraded. To remove this warning, set PyTensor flags cxx to an empty string.\n",
      "WARNING:pytensor.tensor.blas:Using NumPy C-API based implementation for BLAS functions.\n",
      "INFO:jax._src.xla_bridge:Unable to initialize backend 'cuda': \n",
      "INFO:jax._src.xla_bridge:Unable to initialize backend 'rocm': module 'jaxlib.xla_extension' has no attribute 'GpuAllocatorConfig'\n",
      "INFO:jax._src.xla_bridge:Unable to initialize backend 'tpu': UNIMPLEMENTED: LoadPjrtPlugin is not implemented on windows yet.\n"
     ]
    }
   ],
   "source": [
    "import jax.numpy as jnp\n",
    "import matplotlib.pyplot as plt\n",
    "import sys\n",
    "sys.path.append(\"../src/\")\n",
    "from tapm import model_HIVandSTI\n",
    "from tapm import utils\n",
    "import icomo\n",
    "import diffrax\n",
    "import numpy as np"
   ]
  },
  {
   "cell_type": "code",
   "execution_count": 2,
   "metadata": {},
   "outputs": [],
   "source": [
    "args, y0 = utils.read_params(filename=\"../src/tapm/HIVandSTI/model_HIVandSTI.py\")\n",
    "#integrator = model_HIVandSTI.setup_model()"
   ]
  },
  {
   "cell_type": "code",
   "execution_count": 3,
   "metadata": {},
   "outputs": [
    {
     "name": "stderr",
     "output_type": "stream",
     "text": [
      "INFO:tapm.HIVandSTI.model_HIVandSTI:Using exponential function to calculate m\n",
      "INFO:tapm.HIVandSTI.model_HIVandSTI:Parameters: min_exp = 0.0, max_exp = 1.0, tau_exp = 0.2\n"
     ]
    }
   ],
   "source": [
    "#output = integrator(y0=y0, constant_args=args)\n",
    "output = icomo.diffeqsolve(args=args, ODE = model_HIVandSTI.main_model, y0 = y0, ts_out = np.linspace(0, 36000, 3600))"
   ]
  },
  {
   "cell_type": "code",
   "execution_count": 8,
   "metadata": {},
   "outputs": [],
   "source": [
    "def n_observed(args, y):\n",
    "    out = args[\"lambda_s\"]*jnp.sum(jnp.array([y[\"Is1_STI\"], y[\"Is2_STI\"], y[\"Is3_STI\"], y[\"Is4_STI\"]]))+model_HIVandSTI.lambda_a(args=args, y=y)*jnp.sum(jnp.array([y[\"Ia1_STI\"], y[\"Ia2_STI\"], y[\"Ia3_STI\"], y[\"Ia4_STI\"]]))\n",
    "    return out"
   ]
  },
  {
   "cell_type": "code",
   "execution_count": 9,
   "metadata": {},
   "outputs": [
    {
     "data": {
      "text/plain": [
       "Array(764.58333333, dtype=float64)"
      ]
     },
     "execution_count": 9,
     "metadata": {},
     "output_type": "execute_result"
    }
   ],
   "source": [
    "n_observed(args, y0)"
   ]
  },
  {
   "cell_type": "code",
   "execution_count": 4,
   "metadata": {},
   "outputs": [
    {
     "data": {
      "text/plain": [
       "Array([378.5363993 , 378.58322193], dtype=float64)"
      ]
     },
     "execution_count": 4,
     "metadata": {},
     "output_type": "execute_result"
    }
   ],
   "source": [
    "output.ys[\"H\"][9, :]"
   ]
  },
  {
   "cell_type": "code",
   "execution_count": 13,
   "metadata": {},
   "outputs": [],
   "source": [
    "def calculate_N_array(y): # number of people per risk group for a given state y (which means at a given time)\n",
    "    totalNs = []\n",
    "    for i in range(len(y[\"S1\"])):\n",
    "        N1 = jnp.sum(jnp.array([y[\"S1\"][i],y[\"SP1\"][i],y[\"I11\"][i],y[\"IP11\"][i],y[\"I12\"][i],y[\"I13\"][i],y[\"I14\"][i],y[\"A11\"][i],y[\"A12\"][i],y[\"A13\"][i],y[\"A14\"][i]]))\n",
    "        N2 = jnp.sum(jnp.array([y[\"S2\"][i],y[\"SP2\"][i],y[\"I21\"][i],y[\"IP21\"][i],y[\"I22\"][i],y[\"I23\"][i],y[\"I24\"][i],y[\"A21\"][i],y[\"A22\"][i],y[\"A23\"][i],y[\"A24\"][i]]))\n",
    "        N3 = jnp.sum(jnp.array([y[\"S3\"][i],y[\"SP3\"][i],y[\"I31\"][i],y[\"IP31\"][i],y[\"I32\"][i],y[\"I33\"][i],y[\"I34\"][i],y[\"A31\"][i],y[\"A32\"][i],y[\"A33\"][i],y[\"A34\"][i]]))\n",
    "        N4 = jnp.sum(jnp.array([y[\"S4\"][i],y[\"SP4\"][i],y[\"I41\"][i],y[\"IP41\"][i],y[\"I42\"][i],y[\"I43\"][i],y[\"I44\"][i],y[\"A41\"][i],y[\"A42\"][i],y[\"A43\"][i],y[\"A44\"][i]]))\n",
    "        totalNs.append(jnp.sum(jnp.array([N1,N2,N3,N4])))\n",
    "    return totalNs\n",
    "totalNs = calculate_N_array(output.ys)"
   ]
  },
  {
   "cell_type": "code",
   "execution_count": 5,
   "metadata": {},
   "outputs": [
    {
     "data": {
      "text/plain": [
       "Array([9.471     , 9.50533645, 9.53497933, ..., 1.66793521, 1.66762815,\n",
       "       1.66732119], dtype=float64)"
      ]
     },
     "execution_count": 5,
     "metadata": {},
     "output_type": "execute_result"
    }
   ],
   "source": [
    "output.ys[\"A11\"]"
   ]
  },
  {
   "cell_type": "code",
   "execution_count": 19,
   "metadata": {},
   "outputs": [
    {
     "name": "stdout",
     "output_type": "stream",
     "text": [
      "[115.5462     114.42835671 113.32539129 ...   3.89706369   3.89616244\n",
      "   3.89526168]\n"
     ]
    }
   ],
   "source": [
    "print(output.ys[\"I11\"]+output.ys[\"IP11\"]+output.ys[\"I12\"]+output.ys[\"I13\"]+output.ys[\"I14\"])"
   ]
  },
  {
   "cell_type": "code",
   "execution_count": 4,
   "metadata": {},
   "outputs": [
    {
     "name": "stdout",
     "output_type": "stream",
     "text": [
      "Key: A11, Last Value: 1.76044893557557e-05\n",
      "Key: A12, Last Value: 0.00016623431312351268\n",
      "Key: A13, Last Value: 9.24478507526285e-06\n",
      "Key: A14, Last Value: 1.1380816145294919e-05\n",
      "Key: A21, Last Value: 0.0002029157435707098\n",
      "Key: A22, Last Value: 0.0018631237089443559\n",
      "Key: A23, Last Value: 0.0001036539191461298\n",
      "Key: A24, Last Value: 0.0001274463599318721\n",
      "Key: A31, Last Value: 0.0009161547146619383\n",
      "Key: A32, Last Value: 0.008972490729434695\n",
      "Key: A33, Last Value: 0.000498778978766154\n",
      "Key: A34, Last Value: 0.0006149807491426973\n",
      "Key: A41, Last Value: 0.005728117106239736\n",
      "Key: A42, Last Value: 0.050325892359889206\n",
      "Key: A43, Last Value: 0.002802812672671837\n",
      "Key: A44, Last Value: 0.0034385872961434152\n",
      "Key: H, Last Value: [nan nan]\n",
      "Key: I11, Last Value: 1.0382104832817825e-06\n",
      "Key: I12, Last Value: 3.238617528495094e-05\n",
      "Key: I13, Last Value: 3.5491155500389507e-06\n",
      "Key: I14, Last Value: 3.1695517097726285e-06\n",
      "Key: I21, Last Value: 1.1969783214506776e-05\n",
      "Key: I22, Last Value: 0.00036725429725831363\n",
      "Key: I23, Last Value: 4.017066912287847e-05\n",
      "Key: I24, Last Value: 3.578436591433678e-05\n",
      "Key: I31, Last Value: 5.3965839822786085e-05\n",
      "Key: I32, Last Value: 0.0017222033213983605\n",
      "Key: I33, Last Value: 0.00018922117131389023\n",
      "Key: I34, Last Value: 0.00016954983600434397\n",
      "Key: I41, Last Value: 0.00034266845894517165\n",
      "Key: I42, Last Value: 0.01016098063103644\n",
      "Key: I43, Last Value: 0.0011069607583428477\n",
      "Key: I44, Last Value: 0.0009810317348589892\n",
      "Key: IP11, Last Value: 9.85251090050123e-07\n",
      "Key: IP21, Last Value: 1.1354713950688052e-05\n",
      "Key: IP31, Last Value: 5.109775374016948e-05\n",
      "Key: IP41, Last Value: 0.00032212960158535715\n",
      "Key: Ia1_STI, Last Value: nan\n",
      "Key: Ia2_STI, Last Value: nan\n",
      "Key: Ia3_STI, Last Value: nan\n",
      "Key: Ia4_STI, Last Value: nan\n",
      "Key: Is1_STI, Last Value: nan\n",
      "Key: Is2_STI, Last Value: nan\n",
      "Key: Is3_STI, Last Value: nan\n",
      "Key: Is4_STI, Last Value: nan\n",
      "Key: S1, Last Value: 0.2425851837722965\n",
      "Key: S1_STI, Last Value: nan\n",
      "Key: S2, Last Value: 0.24096577873530187\n",
      "Key: S2_STI, Last Value: nan\n",
      "Key: S3, Last Value: 0.23466506495481554\n",
      "Key: S3_STI, Last Value: nan\n",
      "Key: S4, Last Value: 0.20101538679489384\n",
      "Key: S4_STI, Last Value: nan\n",
      "Key: SP1, Last Value: 0.7566219157558797\n",
      "Key: SP2, Last Value: 0.7512479519206549\n",
      "Key: SP3, Last Value: 0.7303280711958225\n",
      "Key: SP4, Last Value: 0.6200223004725021\n",
      "Key: T1_STI, Last Value: nan\n",
      "Key: T2_STI, Last Value: nan\n",
      "Key: T3_STI, Last Value: nan\n",
      "Key: T4_STI, Last Value: nan\n",
      "[Array(nan, dtype=float64), Array(nan, dtype=float64), Array(nan, dtype=float64), Array(nan, dtype=float64)]\n"
     ]
    },
    {
     "data": {
      "image/png": "[encoded data removed]",
      "text/plain": [
       "<Figure size 640x480 with 1 Axes>"
      ]
     },
     "metadata": {},
     "output_type": "display_data"
    }
   ],
   "source": [
    "#plt.plot(output.ys[\"I11\"]+output.ys[\"IP11\"]+output.ys[\"I12\"]+output.ys[\"I13\"]+output.ys[\"I14\"], label=\"Infected - Risk group 1\")\n",
    "#plt.plot(output.ys[\"A11\"]+output.ys[\"A12\"]+output.ys[\"A13\"]+output.ys[\"A14\"], label=\"ART - Risk group 1\")\n",
    "#plt.plot(output.ys[\"I21\"]+output.ys[\"IP21\"]+output.ys[\"I22\"]+output.ys[\"I23\"]+output.ys[\"I24\"], label=\"Infected - Risk group 2\")\n",
    "#plt.plot(output.ys[\"A21\"]+output.ys[\"A22\"]+output.ys[\"A23\"]+output.ys[\"A24\"], label=\"ART - Risk group 2\")\n",
    "#plt.plot(output.ys[\"I31\"]+output.ys[\"IP31\"]+output.ys[\"I32\"]+output.ys[\"I33\"]+output.ys[\"I34\"], label=\"Infected - Risk group 3\")\n",
    "#plt.plot(output.ys[\"A31\"]+output.ys[\"A32\"]+output.ys[\"A33\"]+output.ys[\"A34\"], label=\"ART - Risk group 3\")\n",
    "#plt.plot(output.ys[\"I41\"]+output.ys[\"IP41\"]+output.ys[\"I42\"]+output.ys[\"I43\"]+output.ys[\"I44\"], label=\"Infected - Risk group 4\")\n",
    "#plt.plot(output.ys[\"A41\"]+output.ys[\"A42\"]+output.ys[\"A43\"]+output.ys[\"A44\"], label=\"ART - Risk group 4\")\n",
    "plt.plot(output.ys[\"S1_STI\"]+output.ys[\"S2_STI\"]+output.ys[\"S3_STI\"]+output.ys[\"S4_STI\"], label=\"Susceptible - STI\")\n",
    "plt.plot(output.ys[\"Is1_STI\"]+output.ys[\"Is2_STI\"]+output.ys[\"Is3_STI\"]+output.ys[\"Is4_STI\"], label=\"Infected(Symptomatic) - STI\")\n",
    "plt.plot(output.ys[\"Ia1_STI\"]+output.ys[\"Ia2_STI\"]+output.ys[\"Ia3_STI\"]+output.ys[\"Ia4_STI\"], label=\"Infected(Asymptomatic) - STI\")\n",
    "plt.plot(output.ys[\"T1_STI\"]+output.ys[\"T2_STI\"]+output.ys[\"T3_STI\"]+output.ys[\"T4_STI\"], label=\"Treated - STI\")\n",
    "plt.yscale('log')\n",
    "plt.legend()\n",
    "riskgroups = [1,1,1,1,2,2,2,2,3,3,3,3,4,4,4,4,1,1,1,1,1,2,2,2,2,3,3,3,3,4,4,4,4,1,2,3,4,1,2,3,4,1,2,3,4,1,1,2,2,3,3,4,4,1,2,3,4,1,2,3,4]\n",
    "N0 = 210000 # initial population size\n",
    "N01 = 0.451*N0 # initial population size of risk group 1\n",
    "N02 = 0.353*N0 # initial population size of risk group 2\n",
    "N03 = 0.125*N0 # initial population size of risk group 3\n",
    "N04 = 0.071*N0 # initial population size of risk group 4\n",
    "N0s = [N01,N02,N03,N04]\n",
    "# Summing the values for each risk group\n",
    "i = 0\n",
    "sums = [0, 0, 0, 0]\n",
    "for key, value in output.ys.items():\n",
    "    val = value[-1] / N0s[riskgroups[i] - 1]\n",
    "    print(f\"Key: {key}, Last Value: {val}\")\n",
    "    if key != \"H\":\n",
    "        sums[riskgroups[i] - 1] += val\n",
    "    i += 1\n",
    "\n",
    "print(sums)"
   ]
  }
 ],
 "metadata": {
  "kernelspec": {
   "display_name": "t_a_p_m",
   "language": "python",
   "name": "python3"
  },
  "language_info": {
   "codemirror_mode": {
    "name": "ipython",
    "version": 3
   },
   "file_extension": ".py",
   "mimetype": "text/x-python",
   "name": "python",
   "nbconvert_exporter": "python",
   "pygments_lexer": "ipython3",
   "version": "3.12.4"
  }
 },
 "nbformat": 4,
 "nbformat_minor": 2
}
