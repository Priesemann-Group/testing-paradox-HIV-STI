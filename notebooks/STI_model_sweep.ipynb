{
 "cells": [
  {
   "cell_type": "code",
   "execution_count": 1,
   "id": "9c55ec98",
   "metadata": {},
   "outputs": [],
   "source": [
    "import numpy as np\n",
    "import matplotlib.pyplot as plt\n",
    "import jax\n",
    "\n",
    "import icomo"
   ]
  },
  {
   "cell_type": "code",
   "execution_count": null,
   "id": "30cdcbb6",
   "metadata": {},
   "outputs": [],
   "source": []
  },
  {
   "cell_type": "code",
   "execution_count": null,
   "id": "6af32d8f",
   "metadata": {},
   "outputs": [],
   "source": []
  },
  {
   "cell_type": "code",
   "execution_count": 22,
   "id": "8e12abf4",
   "metadata": {},
   "outputs": [],
   "source": [
    "def model(t, y, args):\n",
    "    cm = icomo.CompModel(y)\n",
    "    \n",
    "    m = args[\"m_max\"] - args[\"m_max\"]/args[\"H_thres\"]*args[\"m_eps\"]*\\\n",
    "        jax.numpy.log( 1+jax.numpy.exp( (args[\"H_thres\"]- args[\"H\"])/args[\"m_eps\"] ))\n",
    "    lambda_STI = args[\"lambda_0\"]\\\n",
    "               + args[\"c\"]*(1-m)*args[\"beta_HIV\"]*args[\"H\"]*(1-args[\"P_HIV\"])\\\n",
    "               + args[\"lambda_P\"]*args[\"P_HIV\"]\n",
    "        \n",
    "    # basic STI dynamics\n",
    "    cm.flow(\"S_STI\", \"I_STI\", (1-m*(1-args[\"P_HIV\"]))*args[\"beta_STI\"]*y[\"I_STI\"])\n",
    "    cm.flow(\"I_STI\", \"S_STI\", args[\"gamma_STI\"])\n",
    "    cm.flow(\"I_STI\", \"T_STI\", lambda_STI)\n",
    "    cm.flow(\"T_STI\", \"S_STI\", args[\"gammaT_STI\"])\n",
    "    # vital dynamics\n",
    "    cm.flow(\"I_STI\", \"S_STI\", args[\"mu\"])\n",
    "    cm.flow(\"T_STI\", \"S_STI\", args[\"mu\"])\n",
    "    \n",
    "    \n",
    "#    cm.view_graph()\n",
    "    return cm.dy\n",
    "\n",
    "args = {\n",
    "    \"beta_HIV\": 0.6341/360.,\n",
    "    \"beta_STI\": 0.0016              *5.,\n",
    "    \"mu\": 1./45./360.,\n",
    "    \"gamma_STI\": 1./1.32/360.,\n",
    "    \"gammaT_STI\": 1./7.,\n",
    "    \"lambda_0\": (1.-0.7)/11.        /360.,\n",
    "    \"lambda_P\": 12./9./360.,\n",
    "    ####\n",
    "    \"m_max\": 0.8,\n",
    "    \"H_thres\": 0.1,\n",
    "    \"m_eps\": 0.01,\n",
    "    \"Phi_r\": 40.,\n",
    "    \"H_tau\": 20.,\n",
    "    \"c\": 1.,\n",
    "    \"H\": 0.,\n",
    "    \"P_HIV\": 0.,\n",
    "}\n",
    "\n",
    "y0 = {\n",
    "    \"S_STI\": 0.99,\n",
    "    \"I_STI\": 0.01,\n",
    "    \"T_STI\": 0.0,\n",
    "}"
   ]
  },
  {
   "cell_type": "code",
   "execution_count": 23,
   "id": "c5df0790",
   "metadata": {},
   "outputs": [],
   "source": [
    "ts = np.linspace(0,3600*5,3600)\n",
    "integrator_object = icomo.ODEIntegrator(\n",
    "    ts_out = ts,\n",
    "    t_0 = min(ts),\n",
    "    ts_solver = ts,\n",
    ")\n",
    "\n",
    "integrator = integrator_object.get_func(model)"
   ]
  },
  {
   "cell_type": "code",
   "execution_count": null,
   "id": "25a44d79",
   "metadata": {},
   "outputs": [],
   "source": []
  },
  {
   "cell_type": "code",
   "execution_count": 24,
   "id": "feac9280",
   "metadata": {},
   "outputs": [
    {
     "name": "stdout",
     "output_type": "stream",
     "text": [
      "0.001006692256145091\n"
     ]
    }
   ],
   "source": [
    "Hs = np.linspace(0,0.1,11)\n",
    "Ps = np.linspace(0,0.8,21)\n",
    "res_I = np.zeros([len(Hs),len(Ps)])\n",
    "res_T = np.zeros([len(Hs),len(Ps)])\n",
    "res_I_inflow = np.zeros([len(Hs),len(Ps)])\n",
    "res_T_inflow = np.zeros([len(Hs),len(Ps)])\n",
    "check = np.zeros([len(Hs),len(Ps)])\n",
    "\n",
    "for i,H in enumerate(Hs):\n",
    "    for j,P in enumerate(Ps):\n",
    "        args_mod = args.copy()\n",
    "        args_mod[\"H\"] = H\n",
    "        args_mod[\"P_HIV\"] = P\n",
    "        output = integrator(y0=y0, constant_args=args_mod)\n",
    "        m = args[\"m_max\"] - args[\"m_max\"]/args[\"H_thres\"]*args[\"m_eps\"]*\\\n",
    "            jax.numpy.log( 1+jax.numpy.exp( (args[\"H_thres\"]- args[\"H\"])/args[\"m_eps\"] ))\n",
    "        lambda_STI = args[\"lambda_0\"]\\\n",
    "               + args[\"c\"]*(1-m)*args[\"beta_HIV\"]*args[\"H\"]*(1-args[\"P_HIV\"])\\\n",
    "               + args[\"lambda_P\"]*args[\"P_HIV\"]\n",
    "        res_I[i,j] = output[\"I_STI\"][-1]\n",
    "        res_T[i,j] = output[\"T_STI\"][-1]\n",
    "        res_I_inflow[i,j] = (1-m*(1-args[\"P_HIV\"]))*args[\"beta_STI\"]*output[\"I_STI\"][-1]*output[\"S_STI\"][-1]\n",
    "        res_T_inflow[i,j] = lambda_STI*output[\"I_STI\"][-1]\n",
    "        check[i,j] = abs(output[\"I_STI\"][-1]-output[\"I_STI\"][-101])\\\n",
    "                   + abs(output[\"T_STI\"][-1]-output[\"T_STI\"][-101])\n",
    "print( check.max() )"
   ]
  },
  {
   "cell_type": "code",
   "execution_count": null,
   "id": "4f9df746",
   "metadata": {},
   "outputs": [],
   "source": []
  },
  {
   "cell_type": "code",
   "execution_count": null,
   "id": "5914fd9a",
   "metadata": {},
   "outputs": [],
   "source": []
  },
  {
   "cell_type": "code",
   "execution_count": null,
   "id": "110739b2",
   "metadata": {},
   "outputs": [],
   "source": []
  },
  {
   "cell_type": "code",
   "execution_count": null,
   "id": "b2b6d1e7",
   "metadata": {},
   "outputs": [],
   "source": []
  },
  {
   "cell_type": "code",
   "execution_count": 25,
   "id": "bac4c7d3",
   "metadata": {},
   "outputs": [
    {
     "data": {
      "text/plain": [
       "<matplotlib.colorbar.Colorbar at 0x7f257acde790>"
      ]
     },
     "execution_count": 25,
     "metadata": {},
     "output_type": "execute_result"
    },
    {
     "data": {
      "image/png": "[encoded data removed]",
      "text/plain": [
       "<Figure size 400x300 with 2 Axes>"
      ]
     },
     "metadata": {},
     "output_type": "display_data"
    }
   ],
   "source": [
    "plt.figure(figsize=(4,3), layout='constrained')\n",
    "plt.imshow(res_I_inflow, origin=\"lower\")\n",
    "plt.title(\"endemic S->I flow\")\n",
    "plt.xlabel(\"fixed value of P\")\n",
    "plt.ylabel(\"fixed value of H\")\n",
    "#plt.xticks([0,50,100,150,200], [Ps[0],Ps[50],Ps[100],Ps[150],Ps[200]])\n",
    "#plt.yticks([0,25,50,75,100], [Hs[0],Hs[25],Hs[50],Hs[75],Hs[100]])\n",
    "plt.colorbar(shrink=0.5)"
   ]
  },
  {
   "cell_type": "code",
   "execution_count": 26,
   "id": "5312034f",
   "metadata": {},
   "outputs": [
    {
     "data": {
      "text/plain": [
       "<matplotlib.colorbar.Colorbar at 0x7f257ab8cd50>"
      ]
     },
     "execution_count": 26,
     "metadata": {},
     "output_type": "execute_result"
    },
    {
     "data": {
      "image/png": "[encoded data removed]",
      "text/plain": [
       "<Figure size 400x300 with 2 Axes>"
      ]
     },
     "metadata": {},
     "output_type": "display_data"
    }
   ],
   "source": [
    "plt.figure(figsize=(4,3), layout='constrained')\n",
    "plt.imshow(res_T_inflow, origin=\"lower\")\n",
    "plt.title(\"endemic I->T flow\")\n",
    "plt.xlabel(\"fixed value of P\")\n",
    "plt.ylabel(\"fixed value of H\")\n",
    "#plt.xticks([0,50,100,150,200], [Ps[0],Ps[50],Ps[100],Ps[150],Ps[200]])\n",
    "#plt.yticks([0,25,50,75,100], [Hs[0],Hs[25],Hs[50],Hs[75],Hs[100]])\n",
    "plt.colorbar(shrink=0.5)"
   ]
  },
  {
   "cell_type": "code",
   "execution_count": 27,
   "id": "49d056a6",
   "metadata": {},
   "outputs": [
    {
     "data": {
      "text/plain": [
       "<matplotlib.colorbar.Colorbar at 0x7f2611b24bd0>"
      ]
     },
     "execution_count": 27,
     "metadata": {},
     "output_type": "execute_result"
    },
    {
     "data": {
      "image/png": "[encoded data removed]",
      "text/plain": [
       "<Figure size 400x300 with 2 Axes>"
      ]
     },
     "metadata": {},
     "output_type": "display_data"
    }
   ],
   "source": [
    "plt.figure(figsize=(4,3), layout='constrained')\n",
    "plt.imshow(res_T_inflow/res_I_inflow, origin=\"lower\")\n",
    "plt.title(\"observed fraction I->T / S->I\")\n",
    "plt.xlabel(\"fixed value of P\")\n",
    "plt.ylabel(\"fixed value of H\")\n",
    "#plt.xticks([0,50,100,150,200], [Ps[0],Ps[50],Ps[100],Ps[150],Ps[200]])\n",
    "#plt.yticks([0,25,50,75,100], [Hs[0],Hs[25],Hs[50],Hs[75],Hs[100]])\n",
    "plt.colorbar(shrink=0.5)"
   ]
  },
  {
   "cell_type": "code",
   "execution_count": 8,
   "id": "483c4f68",
   "metadata": {},
   "outputs": [
    {
     "ename": "NameError",
     "evalue": "name 'res_I' is not defined",
     "output_type": "error",
     "traceback": [
      "\u001b[0;31m---------------------------------------------------------------------------\u001b[0m",
      "\u001b[0;31mNameError\u001b[0m                                 Traceback (most recent call last)",
      "Cell \u001b[0;32mIn[8], line 2\u001b[0m\n\u001b[1;32m      1\u001b[0m plt\u001b[38;5;241m.\u001b[39mfigure(figsize\u001b[38;5;241m=\u001b[39m(\u001b[38;5;241m4\u001b[39m,\u001b[38;5;241m3\u001b[39m), layout\u001b[38;5;241m=\u001b[39m\u001b[38;5;124m'\u001b[39m\u001b[38;5;124mconstrained\u001b[39m\u001b[38;5;124m'\u001b[39m)\n\u001b[0;32m----> 2\u001b[0m plt\u001b[38;5;241m.\u001b[39mimshow(res_I\u001b[38;5;241m-\u001b[39mres_T, origin\u001b[38;5;241m=\u001b[39m\u001b[38;5;124m\"\u001b[39m\u001b[38;5;124mlower\u001b[39m\u001b[38;5;124m\"\u001b[39m)\n\u001b[1;32m      3\u001b[0m plt\u001b[38;5;241m.\u001b[39mtitle(\u001b[38;5;124m\"\u001b[39m\u001b[38;5;124mobserved fraction T/(T+I)\u001b[39m\u001b[38;5;124m\"\u001b[39m)\n\u001b[1;32m      4\u001b[0m plt\u001b[38;5;241m.\u001b[39mxlabel(\u001b[38;5;124m\"\u001b[39m\u001b[38;5;124mfixed value of P\u001b[39m\u001b[38;5;124m\"\u001b[39m)\n",
      "\u001b[0;31mNameError\u001b[0m: name 'res_I' is not defined"
     ]
    },
    {
     "data": {
      "text/plain": [
       "<Figure size 400x300 with 0 Axes>"
      ]
     },
     "metadata": {},
     "output_type": "display_data"
    }
   ],
   "source": [
    "plt.figure(figsize=(4,3), layout='constrained')\n",
    "plt.imshow(res_I-res_T, origin=\"lower\")\n",
    "plt.title(\"observed fraction T/(T+I)\")\n",
    "plt.xlabel(\"fixed value of P\")\n",
    "plt.ylabel(\"fixed value of H\")\n",
    "plt.xticks([0,50,100,150,200], [Ps[0],Ps[50],Ps[100],Ps[150],Ps[200]])\n",
    "plt.yticks([0,25,50,75,100], [Hs[0],Hs[25],Hs[50],Hs[75],Hs[100]])\n",
    "plt.colorbar(shrink=0.5)"
   ]
  },
  {
   "cell_type": "code",
   "execution_count": null,
   "id": "d62f0e61",
   "metadata": {},
   "outputs": [],
   "source": []
  },
  {
   "cell_type": "code",
   "execution_count": null,
   "id": "d9e64f31",
   "metadata": {},
   "outputs": [],
   "source": []
  },
  {
   "cell_type": "code",
   "execution_count": null,
   "id": "79dbebf5",
   "metadata": {},
   "outputs": [],
   "source": [
    "check"
   ]
  },
  {
   "cell_type": "code",
   "execution_count": null,
   "id": "2e62b66d",
   "metadata": {},
   "outputs": [],
   "source": []
  },
  {
   "cell_type": "code",
   "execution_count": null,
   "id": "762f4186",
   "metadata": {},
   "outputs": [],
   "source": []
  },
  {
   "cell_type": "code",
   "execution_count": null,
   "id": "bb1308b2",
   "metadata": {},
   "outputs": [],
   "source": []
  },
  {
   "cell_type": "code",
   "execution_count": null,
   "id": "b32ec4b8",
   "metadata": {},
   "outputs": [],
   "source": []
  },
  {
   "cell_type": "code",
   "execution_count": null,
   "id": "f29c638e",
   "metadata": {},
   "outputs": [],
   "source": []
  },
  {
   "cell_type": "code",
   "execution_count": null,
   "id": "59a8a8ea",
   "metadata": {},
   "outputs": [],
   "source": []
  }
 ],
 "metadata": {
  "kernelspec": {
   "display_name": "icomo",
   "language": "python",
   "name": "icomo"
  },
  "language_info": {
   "codemirror_mode": {
    "name": "ipython",
    "version": 3
   },
   "file_extension": ".py",
   "mimetype": "text/x-python",
   "name": "python",
   "nbconvert_exporter": "python",
   "pygments_lexer": "ipython3",
   "version": "3.11.5"
  }
 },
 "nbformat": 4,
 "nbformat_minor": 5
}
